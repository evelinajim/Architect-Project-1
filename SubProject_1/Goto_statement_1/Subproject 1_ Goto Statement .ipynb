{
 "cells": [
  {
   "cell_type": "markdown",
   "metadata": {},
   "source": [
    "# Sub Project 1: Control Structures \n",
    "### Go To statements  \n",
    "\n",
    "#### PROBLEM: Code up a C/C++ goto statement \n",
    "\n",
    "#### Intent: \n",
    "\t\tTo show the process and example of a goto statment in assembly \n",
    "\t\n",
    "#### Usage in  in c  code: \n",
    "``` c\n",
    "main()\n",
    "{\n",
    "    int var1 = 10; \n",
    "    goto func1;\n",
    "}\n",
    "func1()\n",
    "{\n",
    "\tvar1 = 5;\n",
    "\tgoto func3\n",
    "}\n",
    "func2()\n",
    "{\n",
    "\tvar1 = 3;\n",
    "\tint var2 = 3;\n",
    "}\n",
    "func3()\n",
    "{\n",
    "    var1 = 0;\n",
    "\tgoto var2;\n",
    "}\n",
    "```\n",
    "\n",
    "\t\n",
    "#### Registers used:\n",
    "\t\t- r0\n",
    "\t\t- r1\n",
    "\t\t\n",
    "#### Concepts used: \n",
    "    - Register Usage: \n",
    "      - There are storage areas that can be treated as variables. Not all registers are equal some come with some benefits. \n",
    "\t\t\t\n",
    "    - Move: Used to assign a value into a register \n",
    "      - ex: \n",
    "          - mov r0, #10\n",
    "    - Branching:\n",
    "        - Process used to jump from one part of code to another. \n",
    "        - This is the core part of the Go to statment. \n",
    "\t\t- ex: \n",
    "            - b func1;\n",
    "\t\n",
    "#### Process of completion: \n",
    "\t\n",
    "    - Step 1: \n",
    "        - r0 set to 10 \n",
    "\t\t\n",
    "    - Step 2:\n",
    "        - r0 set to 5\n",
    "\t\t\n",
    "    - Step 3:\n",
    "        - r0 set to 0\n",
    "\t\t\n",
    "    - Step 4: \n",
    "        - r0 set to 3\n",
    "\t\t- r1 set to 3\n",
    "\t\t- end program "
   ]
  },
  {
   "cell_type": "markdown",
   "metadata": {},
   "source": [
    "#### Testing "
   ]
  },
  {
   "cell_type": "code",
   "execution_count": null,
   "metadata": {},
   "outputs": [],
   "source": [
    "!cat Goto_statement.s"
   ]
  },
  {
   "cell_type": "markdown",
   "metadata": {},
   "source": [
    "#### Result"
   ]
  },
  {
   "cell_type": "code",
   "execution_count": null,
   "metadata": {},
   "outputs": [],
   "source": [
    "!as -o Goto_statement.o Goto_statement.s\n",
    "!gcc -o Goto_statement Goto_statement.o\n",
    "!./Goto_statement"
   ]
  },
  {
   "cell_type": "markdown",
   "metadata": {},
   "source": [
    "#### Tutorial Video "
   ]
  },
  {
   "cell_type": "code",
   "execution_count": 55,
   "metadata": {},
   "outputs": [
    {
     "data": {
      "text/html": [
       "<video width=\"320\" height=\"240\" controls >\n",
       "  <source src=\"...\\Dhaiti decision brief-Copy.mp4\" type=\"video/mp4\">\n",
       "</video>"
      ],
      "text/plain": [
       "<IPython.core.display.HTML object>"
      ]
     },
     "metadata": {},
     "output_type": "display_data"
    }
   ],
   "source": [
    "%%HTML\n",
    "<video width=\"320\" height=\"240\" controls >\n",
    "  <source src=\"...\\Dhaiti decision brief-Copy.mp4\" type=\"video/mp4\">\n",
    "</video>"
   ]
  },
  {
   "cell_type": "code",
   "execution_count": 49,
   "metadata": {},
   "outputs": [
    {
     "ename": "SyntaxError",
     "evalue": "invalid syntax (<ipython-input-49-7267b39146fb>, line 2)",
     "output_type": "error",
     "traceback": [
      "\u001b[1;36m  File \u001b[1;32m\"<ipython-input-49-7267b39146fb>\"\u001b[1;36m, line \u001b[1;32m2\u001b[0m\n\u001b[1;33m    <video width=\"320\" height=\"240\" controls>\u001b[0m\n\u001b[1;37m    ^\u001b[0m\n\u001b[1;31mSyntaxError\u001b[0m\u001b[1;31m:\u001b[0m invalid syntax\n"
     ]
    }
   ],
   "source": [
    "\n",
    "<video width=\"320\" height=\"240\" controls>\n",
    "  <source src=\"...\\Desktop\\New folder\\Dhaiti decision brief-Copy.mp4\" type=\"video/mp4\">\n",
    "  \n",
    "</video>\n"
   ]
  },
  {
   "cell_type": "markdown",
   "metadata": {},
   "source": [
    "-  Code up a if then else statement, use the goto statement you just coded in the solution of the if then else\n",
    "\n"
   ]
  },
  {
   "cell_type": "code",
   "execution_count": null,
   "metadata": {},
   "outputs": [],
   "source": []
  },
  {
   "cell_type": "markdown",
   "metadata": {},
   "source": [
    "- Code up a counted for statement using the if then and goto statements you have coded\n"
   ]
  },
  {
   "cell_type": "code",
   "execution_count": null,
   "metadata": {},
   "outputs": [],
   "source": []
  }
 ],
 "metadata": {
  "kernelspec": {
   "display_name": "Python 3",
   "language": "python",
   "name": "python3"
  },
  "language_info": {
   "codemirror_mode": {
    "name": "ipython",
    "version": 3
   },
   "file_extension": ".py",
   "mimetype": "text/x-python",
   "name": "python",
   "nbconvert_exporter": "python",
   "pygments_lexer": "ipython3",
   "version": "3.5.3"
  }
 },
 "nbformat": 4,
 "nbformat_minor": 2
}
