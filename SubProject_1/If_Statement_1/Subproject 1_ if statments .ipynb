{
 "cells": [
  {
   "cell_type": "markdown",
   "metadata": {},
   "source": [
    "# Sub Project 1: IF statements \n",
    "\n",
    "#### PROBLEM: Code up a C/C++ if statement \n",
    "\n",
    "#### Intent: \n",
    "\t\tTo show the process and example of a if statment in assembly \n",
    "\t\n",
    "#### Usage in  in c  code: \n",
    "``` c\n",
    "main()\n",
    "{\n",
    "    int var1 = 10; \n",
    "    int var2 = 20;\n",
    "    goto compare ;\n",
    "}\n",
    "compare()\n",
    "{\n",
    "\tif(var1 > var 2)\n",
    "    {\n",
    "        then()\n",
    "    }\n",
    "    else\n",
    "    {\n",
    "        func3();\n",
    "    }\n",
    "    \n",
    "    return 0; \n",
    "}\n",
    "then()\n",
    "{\n",
    "    var1 = 1;\n",
    "}\n",
    "func3()\n",
    "{\n",
    "    var1 = 2;\n",
    "}\n",
    "```\n",
    "\n",
    "\t\n",
    "#### Registers used:\n",
    "\t\t- r0\n",
    "\t\t- r1\n",
    "\t\t\n",
    "#### Concepts used: \n",
    "    - Register Usage: \n",
    "      - There are storage areas that can be treated as variables. Not all registers are equal some come with some benefits. \n",
    "\t\t\t\n",
    "    - Move: Used to assign a value into a register \n",
    "      - ex: \n",
    "          - mov r0, #10\n",
    "    - Branching:\n",
    "        - Process used to jump from one part of code to another. \n",
    "        - This is the core part of the Go to statment. \n",
    "\t\t- ex: \n",
    "            - b func1;\n",
    "    - Conditional branching \n",
    "        - Processes is used to jumpt to another part of the progam depending on what happens in the comparision statment \n",
    "        - ex \n",
    "            bgt func1; \n",
    "            -explination \n",
    "                if the left side of the compare statement is greater than the right side then then it will run func one \n",
    "                \n",
    "    - Compare \n",
    "        - looks at two parts and compares them \n",
    "        - compares the left to the right \n",
    "        - then saves the boolean value dependnig on the input to the comparison\n",
    "        \n",
    "        - ex \n",
    "            cmpare 4, 50\n",
    "        - result: False \n",
    "        - result is saved to a temporary state that can be used by the conditional branch statment \n",
    "            \n",
    "\t\n",
    "#### Process of completion: \n",
    "\t\n",
    "    - Step 1: \n",
    "        - r0 set to 10 \n",
    "        - r0 set to 20 \n",
    "\t\t- branch to compare\n",
    "        \n",
    "    - Step 2:\n",
    "        - compare r0 and r1 \n",
    "        - branch to then() if r0 > r1 \n",
    "        - else branch to else() if r0 < r1\n",
    "\t\t\n",
    "    - Step 3:\n",
    "        - if in then() set r0 to 1\n",
    "            - end program \n",
    "        - if in else() set r0 to 0 \n",
    "            - end program "
   ]
  },
  {
   "cell_type": "markdown",
   "metadata": {},
   "source": [
    "#### Testing "
   ]
  },
  {
   "cell_type": "code",
   "execution_count": 1,
   "metadata": {},
   "outputs": [
    {
     "name": "stderr",
     "output_type": "stream",
     "text": [
      "'cat' is not recognized as an internal or external command,\n",
      "operable program or batch file.\n"
     ]
    }
   ],
   "source": [
    "!cat if_statement.s"
   ]
  },
  {
   "cell_type": "markdown",
   "metadata": {},
   "source": [
    "#### Result"
   ]
  },
  {
   "cell_type": "code",
   "execution_count": 6,
   "metadata": {},
   "outputs": [
    {
     "name": "stderr",
     "output_type": "stream",
     "text": [
      "'as' is not recognized as an internal or external command,\n",
      "operable program or batch file.\n",
      "'gcc' is not recognized as an internal or external command,\n",
      "operable program or batch file.\n",
      "'.' is not recognized as an internal or external command,\n",
      "operable program or batch file.\n"
     ]
    }
   ],
   "source": [
    "!as -o if_statement.o if_statement.s\n",
    "!gcc -o if_statement if_statement.o\n",
    "!./if_statement"
   ]
  },
  {
   "cell_type": "markdown",
   "metadata": {},
   "source": [
    "#### Video Tutorial"
   ]
  },
  {
   "cell_type": "code",
   "execution_count": 5,
   "metadata": {},
   "outputs": [
    {
     "data": {
      "text/html": [
       "<video width=\"320\" height=\"240\" controls >\n",
       "  <source src=\"...\\Dhaiti decision brief-Copy.mp4\" type=\"video/mp4\">\n",
       "</video>"
      ],
      "text/plain": [
       "<IPython.core.display.HTML object>"
      ]
     },
     "metadata": {},
     "output_type": "display_data"
    }
   ],
   "source": [
    "%%HTML\n",
    "<video width=\"320\" height=\"240\" controls >\n",
    "  <source src=\"...\\Dhaiti decision brief-Copy.mp4\" type=\"video/mp4\">\n",
    "</video>"
   ]
  }
 ],
 "metadata": {
  "kernelspec": {
   "display_name": "Python 3",
   "language": "python",
   "name": "python3"
  },
  "language_info": {
   "codemirror_mode": {
    "name": "ipython",
    "version": 3
   },
   "file_extension": ".py",
   "mimetype": "text/x-python",
   "name": "python",
   "nbconvert_exporter": "python",
   "pygments_lexer": "ipython3",
   "version": "3.6.5"
  }
 },
 "nbformat": 4,
 "nbformat_minor": 2
}
